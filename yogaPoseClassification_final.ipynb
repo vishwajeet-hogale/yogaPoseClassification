{
  "nbformat": 4,
  "nbformat_minor": 0,
  "metadata": {
    "colab": {
      "name": "yogaPoseClassification.ipynb",
      "provenance": [],
      "collapsed_sections": [],
      "toc_visible": true
    },
    "kernelspec": {
      "name": "python3",
      "display_name": "Python 3"
    },
    "language_info": {
      "name": "python"
    },
    "accelerator": "GPU"
  },
  "cells": [
    {
      "cell_type": "markdown",
      "metadata": {
        "id": "ghK1Sx9cBTH5"
      },
      "source": [
        "# Yoga Pose Classification \n",
        "\n"
      ]
    },
    {
      "cell_type": "code",
      "metadata": {
        "id": "oZABc3WJBNiw"
      },
      "source": [
        "import numpy as np\n",
        "import os\n",
        "import pandas as pd\n",
        "import matplotlib.pyplot as plt\n",
        "import tensorflow as tf\n",
        "from tensorflow.keras.utils import to_categorical\n",
        "from tensorflow.keras.preprocessing.image import load_img, img_to_array\n",
        "from tensorflow.python.keras.preprocessing.image import ImageDataGenerator\n",
        "from sklearn.model_selection import train_test_split"
      ],
      "execution_count": 29,
      "outputs": []
    },
    {
      "cell_type": "code",
      "metadata": {
        "colab": {
          "base_uri": "https://localhost:8080/"
        },
        "id": "WbBFP1gGB-s8",
        "outputId": "62dce2d5-917d-49bf-f3d8-482da79c0c22"
      },
      "source": [
        "from google.colab import drive\n",
        "\n",
        "\n",
        "drive.mount('/content/gdrive')"
      ],
      "execution_count": 16,
      "outputs": [
        {
          "output_type": "stream",
          "text": [
            "Drive already mounted at /content/gdrive; to attempt to forcibly remount, call drive.mount(\"/content/gdrive\", force_remount=True).\n"
          ],
          "name": "stdout"
        }
      ]
    },
    {
      "cell_type": "code",
      "metadata": {
        "colab": {
          "base_uri": "https://localhost:8080/"
        },
        "id": "-h9UBA16CYdR",
        "outputId": "744855d1-cce2-41aa-9f31-37dae1c591da"
      },
      "source": [
        "%cd /content/gdrive/MyDrive/Projects_Colab/Yoga\n",
        "train_dir = \"/content/gdrive/MyDrive/Projects_Colab/Yoga\"\n",
        "!unzip dataset.zip\n"
      ],
      "execution_count": 17,
      "outputs": [
        {
          "output_type": "stream",
          "text": [
            "/content/gdrive/MyDrive/Projects_Colab\n",
            "unzip:  cannot find or open dataset.zip, dataset.zip.zip or dataset.zip.ZIP.\n"
          ],
          "name": "stdout"
        }
      ]
    },
    {
      "cell_type": "code",
      "metadata": {
        "id": "RiDgppmPOhTQ"
      },
      "source": [
        "all_classes =[]\n",
        "for file in os.listdir(train_dir):\n",
        "    all_classes.append(file)"
      ],
      "execution_count": 34,
      "outputs": []
    },
    {
      "cell_type": "code",
      "metadata": {
        "id": "QDI8IjNtDbvG",
        "colab": {
          "base_uri": "https://localhost:8080/"
        },
        "outputId": "52060dac-db78-4703-c388-fc015ab71c0b"
      },
      "source": [
        "len(all_classes)"
      ],
      "execution_count": 35,
      "outputs": [
        {
          "output_type": "execute_result",
          "data": {
            "text/plain": [
              "107"
            ]
          },
          "metadata": {
            "tags": []
          },
          "execution_count": 35
        }
      ]
    },
    {
      "cell_type": "code",
      "metadata": {
        "id": "afpdZO2vCxKP",
        "colab": {
          "base_uri": "https://localhost:8080/"
        },
        "outputId": "72217e76-c746-4281-bc1b-020785ac5aa0"
      },
      "source": [
        "len(all_classes)"
      ],
      "execution_count": 36,
      "outputs": [
        {
          "output_type": "execute_result",
          "data": {
            "text/plain": [
              "107"
            ]
          },
          "metadata": {
            "tags": []
          },
          "execution_count": 36
        }
      ]
    },
    {
      "cell_type": "code",
      "metadata": {
        "id": "hkGCafibMFfY"
      },
      "source": [
        "Name = all_classes\n",
        "N=[]\n",
        "for i in range(len(Name)):\n",
        "    N+=[i]\n",
        "    \n",
        "normal_mapping=dict(zip(Name,N)) \n",
        "reverse_mapping=dict(zip(N,Name)) \n",
        "\n",
        "def mapper(value):\n",
        "    return reverse_mapping[value]"
      ],
      "execution_count": 37,
      "outputs": []
    },
    {
      "cell_type": "code",
      "metadata": {
        "colab": {
          "base_uri": "https://localhost:8080/"
        },
        "id": "6t7xY_B3MXzX",
        "outputId": "dd781915-fff8-42d3-b86e-82b1ccbcd97f"
      },
      "source": [
        "dataset=[]\n",
        "testset=[]\n",
        "count=0\n",
        "train_dir = \"/content/gdrive/MyDrive/Projects_Colab/Yoga/\"\n",
        "for file in os.listdir(train_dir):\n",
        "    t=0\n",
        "    path=os.path.join(train_dir,file)\n",
        "    for im in os.listdir(path):\n",
        "        image=load_img(os.path.join(path,im), grayscale=False, color_mode='rgb', target_size=(40,40))\n",
        "        image=img_to_array(image)\n",
        "        image=image/255.0\n",
        "        if t<60:\n",
        "            dataset+=[[image,count]]\n",
        "        else:\n",
        "            testset+=[[image,count]]\n",
        "        t+=1\n",
        "    count=count+1"
      ],
      "execution_count": 26,
      "outputs": [
        {
          "output_type": "stream",
          "text": [
            "/usr/local/lib/python3.7/dist-packages/PIL/Image.py:960: UserWarning: Palette images with Transparency expressed in bytes should be converted to RGBA images\n",
            "  \"Palette images with Transparency expressed in bytes should be \"\n"
          ],
          "name": "stderr"
        }
      ]
    },
    {
      "cell_type": "code",
      "metadata": {
        "id": "UeXGt1khMh8J"
      },
      "source": [
        "data,labels0=zip(*dataset)\n",
        "test,testlabels0=zip(*testset)\n",
        "labels1=to_categorical(labels0)\n",
        "labels=np.array(labels1)\n",
        "data=np.array(data)\n",
        "test=np.array(test)"
      ],
      "execution_count": 27,
      "outputs": []
    },
    {
      "cell_type": "code",
      "metadata": {
        "id": "ZG33mtcVNvx_"
      },
      "source": [
        "x_train,x_test,y_train,y_test=train_test_split(data,labels,test_size=0.2,random_state=44)"
      ],
      "execution_count": 40,
      "outputs": []
    },
    {
      "cell_type": "code",
      "metadata": {
        "id": "2tOZrb34OTJn"
      },
      "source": [
        "datagen = ImageDataGenerator(horizontal_flip=True,vertical_flip=True,rotation_range=20,zoom_range=0.2,\n",
        "                        width_shift_range=0.2,height_shift_range=0.2,shear_range=0.1,fill_mode=\"nearest\")"
      ],
      "execution_count": 41,
      "outputs": []
    },
    {
      "cell_type": "code",
      "metadata": {
        "colab": {
          "base_uri": "https://localhost:8080/"
        },
        "id": "6XxCLgFTP4xZ",
        "outputId": "81389ae2-f525-41a9-c9d0-716c130ca295"
      },
      "source": [
        "print(x_train.shape)\n",
        "print(y_train.shape)\n",
        "print(x_test.shape)\n",
        "print(y_test.shape)"
      ],
      "execution_count": 48,
      "outputs": [
        {
          "output_type": "stream",
          "text": [
            "(4495, 40, 40, 3)\n",
            "(4495, 107)\n",
            "(1124, 40, 40, 3)\n",
            "(1124, 107)\n"
          ],
          "name": "stdout"
        }
      ]
    },
    {
      "cell_type": "code",
      "metadata": {
        "id": "KIC7YyhROXx3"
      },
      "source": [
        "from tensorflow.keras.layers import Input, Conv2D, Dense, Flatten, Dropout, GlobalMaxPooling2D, MaxPooling2D, BatchNormalization\n",
        "from tensorflow.keras.models import Model\n",
        "\n",
        "# Build the model using the functional API\n",
        "i = Input(shape=x_train[0].shape)\n",
        "# x = Conv2D(32, (3, 3), strides=2, activation='relu')(i)\n",
        "# x = Conv2D(64, (3, 3), strides=2, activation='relu')(x)\n",
        "# x = Conv2D(128, (3, 3), strides=2, activation='relu')(x)\n",
        "\n",
        "x = Conv2D(32, (3, 3), activation='relu', padding='same')(i)\n",
        "x = BatchNormalization()(x)\n",
        "x = Conv2D(32, (3, 3), activation='relu', padding='same')(x)\n",
        "x = BatchNormalization()(x)\n",
        "x = MaxPooling2D((2, 2))(x)\n",
        "# x = Dropout(0.2)(x)\n",
        "x = Conv2D(64, (3, 3), activation='relu', padding='same')(x)\n",
        "x = BatchNormalization()(x)\n",
        "x = Conv2D(64, (3, 3), activation='relu', padding='same')(x)\n",
        "x = BatchNormalization()(x)\n",
        "x = MaxPooling2D((2, 2))(x)\n",
        "# x = Dropout(0.2)(x)\n",
        "x = Conv2D(128, (3, 3), activation='relu', padding='same')(x)\n",
        "x = BatchNormalization()(x)\n",
        "x = Conv2D(128, (3, 3), activation='relu', padding='same')(x)\n",
        "x = BatchNormalization()(x)\n",
        "x = MaxPooling2D((2, 2))(x)\n",
        "# x = Dropout(0.2)(x)\n",
        "\n",
        "# x = GlobalMaxPooling2D()(x)\n",
        "x = Flatten()(x)\n",
        "x = Dropout(0.2)(x)\n",
        "x = Dense(1024, activation='relu')(x)\n",
        "x = Dropout(0.2)(x)\n",
        "x = Dense(107, activation='softmax')(x)\n",
        "\n",
        "model = Model(i, x)"
      ],
      "execution_count": 50,
      "outputs": []
    },
    {
      "cell_type": "code",
      "metadata": {
        "id": "ChxTqRJlOz63"
      },
      "source": [
        "# Compile\n",
        "# Note: make sure you are using the GPU for this!\n",
        "model.compile(optimizer='adam',\n",
        "              loss='categorical_crossentropy',\n",
        "              metrics=['accuracy'])"
      ],
      "execution_count": 52,
      "outputs": []
    },
    {
      "cell_type": "code",
      "metadata": {
        "colab": {
          "base_uri": "https://localhost:8080/"
        },
        "id": "veBqMAnGPKQf",
        "outputId": "e5edfe74-529a-4e86-c4e4-ad4f4c98ee0f"
      },
      "source": [
        "\n",
        "\n",
        "r=model.fit(datagen.flow(x_train,y_train,batch_size=32),validation_data=(x_test,y_test),epochs=30)"
      ],
      "execution_count": 53,
      "outputs": [
        {
          "output_type": "stream",
          "text": [
            "Epoch 1/30\n",
            "141/141 [==============================] - 8s 44ms/step - loss: 5.1465 - accuracy: 0.0133 - val_loss: 4.8019 - val_accuracy: 0.0044\n",
            "Epoch 2/30\n",
            "141/141 [==============================] - 6s 39ms/step - loss: 4.6809 - accuracy: 0.0158 - val_loss: 4.6880 - val_accuracy: 0.0151\n",
            "Epoch 3/30\n",
            "141/141 [==============================] - 5s 39ms/step - loss: 4.6298 - accuracy: 0.0214 - val_loss: 4.5980 - val_accuracy: 0.0205\n",
            "Epoch 4/30\n",
            "141/141 [==============================] - 5s 38ms/step - loss: 4.5659 - accuracy: 0.0227 - val_loss: 4.4231 - val_accuracy: 0.0374\n",
            "Epoch 5/30\n",
            "141/141 [==============================] - 5s 39ms/step - loss: 4.4926 - accuracy: 0.0296 - val_loss: 4.4374 - val_accuracy: 0.0409\n",
            "Epoch 6/30\n",
            "141/141 [==============================] - 5s 38ms/step - loss: 4.4048 - accuracy: 0.0396 - val_loss: 4.3744 - val_accuracy: 0.0356\n",
            "Epoch 7/30\n",
            "141/141 [==============================] - 5s 38ms/step - loss: 4.2951 - accuracy: 0.0449 - val_loss: 4.2369 - val_accuracy: 0.0436\n",
            "Epoch 8/30\n",
            "141/141 [==============================] - 5s 38ms/step - loss: 4.2438 - accuracy: 0.0516 - val_loss: 4.0196 - val_accuracy: 0.0667\n",
            "Epoch 9/30\n",
            "141/141 [==============================] - 6s 39ms/step - loss: 4.1304 - accuracy: 0.0578 - val_loss: 3.7818 - val_accuracy: 0.0943\n",
            "Epoch 10/30\n",
            "141/141 [==============================] - 6s 39ms/step - loss: 4.0996 - accuracy: 0.0659 - val_loss: 3.6827 - val_accuracy: 0.1077\n",
            "Epoch 11/30\n",
            "141/141 [==============================] - 6s 40ms/step - loss: 4.0179 - accuracy: 0.0756 - val_loss: 3.8586 - val_accuracy: 0.0890\n",
            "Epoch 12/30\n",
            "141/141 [==============================] - 6s 39ms/step - loss: 3.9840 - accuracy: 0.0836 - val_loss: 3.9532 - val_accuracy: 0.0836\n",
            "Epoch 13/30\n",
            "141/141 [==============================] - 6s 40ms/step - loss: 3.9338 - accuracy: 0.0870 - val_loss: 3.5223 - val_accuracy: 0.1450\n",
            "Epoch 14/30\n",
            "141/141 [==============================] - 6s 39ms/step - loss: 3.8529 - accuracy: 0.0959 - val_loss: 3.6821 - val_accuracy: 0.1139\n",
            "Epoch 15/30\n",
            "141/141 [==============================] - 6s 39ms/step - loss: 3.8201 - accuracy: 0.0961 - val_loss: 3.5269 - val_accuracy: 0.1423\n",
            "Epoch 16/30\n",
            "141/141 [==============================] - 5s 39ms/step - loss: 3.7976 - accuracy: 0.1043 - val_loss: 3.6474 - val_accuracy: 0.1263\n",
            "Epoch 17/30\n",
            "141/141 [==============================] - 6s 39ms/step - loss: 3.7808 - accuracy: 0.1043 - val_loss: 3.4219 - val_accuracy: 0.1521\n",
            "Epoch 18/30\n",
            "141/141 [==============================] - 5s 39ms/step - loss: 3.7215 - accuracy: 0.1128 - val_loss: 3.3089 - val_accuracy: 0.1824\n",
            "Epoch 19/30\n",
            "141/141 [==============================] - 6s 39ms/step - loss: 3.6635 - accuracy: 0.1179 - val_loss: 3.2375 - val_accuracy: 0.1806\n",
            "Epoch 20/30\n",
            "141/141 [==============================] - 5s 38ms/step - loss: 3.6570 - accuracy: 0.1217 - val_loss: 3.2702 - val_accuracy: 0.1788\n",
            "Epoch 21/30\n",
            "141/141 [==============================] - 5s 38ms/step - loss: 3.6134 - accuracy: 0.1268 - val_loss: 3.2924 - val_accuracy: 0.1806\n",
            "Epoch 22/30\n",
            "141/141 [==============================] - 5s 38ms/step - loss: 3.5953 - accuracy: 0.1335 - val_loss: 3.3485 - val_accuracy: 0.1708\n",
            "Epoch 23/30\n",
            "141/141 [==============================] - 5s 38ms/step - loss: 3.5861 - accuracy: 0.1306 - val_loss: 4.3940 - val_accuracy: 0.0614\n",
            "Epoch 24/30\n",
            "141/141 [==============================] - 5s 38ms/step - loss: 3.5268 - accuracy: 0.1350 - val_loss: 3.2025 - val_accuracy: 0.2028\n",
            "Epoch 25/30\n",
            "141/141 [==============================] - 5s 38ms/step - loss: 3.5018 - accuracy: 0.1424 - val_loss: 3.3170 - val_accuracy: 0.1797\n",
            "Epoch 26/30\n",
            "141/141 [==============================] - 6s 39ms/step - loss: 3.4643 - accuracy: 0.1517 - val_loss: 3.2909 - val_accuracy: 0.1931\n",
            "Epoch 27/30\n",
            "141/141 [==============================] - 6s 39ms/step - loss: 3.4875 - accuracy: 0.1459 - val_loss: 3.0840 - val_accuracy: 0.2215\n",
            "Epoch 28/30\n",
            "141/141 [==============================] - 5s 39ms/step - loss: 3.4337 - accuracy: 0.1631 - val_loss: 3.0688 - val_accuracy: 0.2269\n",
            "Epoch 29/30\n",
            "141/141 [==============================] - 5s 38ms/step - loss: 3.3889 - accuracy: 0.1646 - val_loss: 3.1810 - val_accuracy: 0.1957\n",
            "Epoch 30/30\n",
            "141/141 [==============================] - 6s 39ms/step - loss: 3.3855 - accuracy: 0.1640 - val_loss: 3.2445 - val_accuracy: 0.2153\n"
          ],
          "name": "stdout"
        }
      ]
    },
    {
      "cell_type": "code",
      "metadata": {
        "colab": {
          "base_uri": "https://localhost:8080/",
          "height": 282
        },
        "id": "2jMTULmyPU1I",
        "outputId": "1dee07bc-6c8c-402f-a16a-4ed74afcfd53"
      },
      "source": [
        "import matplotlib.pyplot as plt\n",
        "plt.plot(r.history['loss'], label='loss')\n",
        "plt.plot(r.history['val_loss'], label='val_loss')\n",
        "plt.legend()"
      ],
      "execution_count": 54,
      "outputs": [
        {
          "output_type": "execute_result",
          "data": {
            "text/plain": [
              "<matplotlib.legend.Legend at 0x7f31c8cf4210>"
            ]
          },
          "metadata": {
            "tags": []
          },
          "execution_count": 54
        },
        {
          "output_type": "display_data",
          "data": {
            "image/png": "[encoded data removed]",
            "text/plain": [
              "<Figure size 432x288 with 1 Axes>"
            ]
          },
          "metadata": {
            "tags": [],
            "needs_background": "light"
          }
        }
      ]
    },
    {
      "cell_type": "code",
      "metadata": {
        "colab": {
          "base_uri": "https://localhost:8080/",
          "height": 282
        },
        "id": "jT-lS-gqPXtI",
        "outputId": "e7ba4660-c9d4-4f19-dfd7-7d5da73a77a5"
      },
      "source": [
        "# Plot accuracy per iteration\n",
        "plt.plot(r.history['accuracy'], label='acc')\n",
        "plt.plot(r.history['val_accuracy'], label='val_acc')\n",
        "plt.legend()"
      ],
      "execution_count": 55,
      "outputs": [
        {
          "output_type": "execute_result",
          "data": {
            "text/plain": [
              "<matplotlib.legend.Legend at 0x7f31c73bb5d0>"
            ]
          },
          "metadata": {
            "tags": []
          },
          "execution_count": 55
        },
        {
          "output_type": "display_data",
          "data": {
            "image/png": "[encoded data removed]",
            "text/plain": [
              "<Figure size 432x288 with 1 Axes>"
            ]
          },
          "metadata": {
            "tags": [],
            "needs_background": "light"
          }
        }
      ]
    },
    {
      "cell_type": "code",
      "metadata": {
        "colab": {
          "base_uri": "https://localhost:8080/"
        },
        "id": "KKHx0-p2Paw3",
        "outputId": "6b4b16d4-220b-487f-ba97-35e74fa6fe5f"
      },
      "source": [
        "pretrained_model3 = tf.keras.applications.DenseNet201(input_shape=(40,40,3),include_top=False,weights='imagenet',pooling='avg')\n",
        "pretrained_model3.trainable = False\n",
        "inputs3 = pretrained_model3.input\n",
        "x3 = tf.keras.layers.Dense(128, activation='relu')(pretrained_model3.output)\n",
        "outputs3 = tf.keras.layers.Dense(107, activation='softmax')(x3)\n",
        "model = tf.keras.Model(inputs=inputs3, outputs=outputs3)"
      ],
      "execution_count": 56,
      "outputs": [
        {
          "output_type": "stream",
          "text": [
            "Downloading data from https://storage.googleapis.com/tensorflow/keras-applications/densenet/densenet201_weights_tf_dim_ordering_tf_kernels_notop.h5\n",
            "74842112/74836368 [==============================] - 1s 0us/step\n"
          ],
          "name": "stdout"
        }
      ]
    },
    {
      "cell_type": "code",
      "metadata": {
        "id": "W2hoaX6RRWzV"
      },
      "source": [
        "model.compile(optimizer='adam',loss='categorical_crossentropy',metrics=['accuracy'])"
      ],
      "execution_count": 57,
      "outputs": []
    },
    {
      "cell_type": "code",
      "metadata": {
        "colab": {
          "base_uri": "https://localhost:8080/"
        },
        "id": "qF-OX9QTRZhe",
        "outputId": "eb136f2e-0914-46a5-9957-fc9c806e4f03"
      },
      "source": [
        "his=model.fit(datagen.flow(trainx,trainy,batch_size=32),validation_data=(testx,testy),epochs=30)"
      ],
      "execution_count": 58,
      "outputs": [
        {
          "output_type": "stream",
          "text": [
            "Epoch 1/30\n",
            "141/141 [==============================] - 31s 126ms/step - loss: 4.6301 - accuracy: 0.0229 - val_loss: 4.4346 - val_accuracy: 0.0560\n",
            "Epoch 2/30\n",
            "141/141 [==============================] - 11s 78ms/step - loss: 4.3357 - accuracy: 0.0616 - val_loss: 4.0794 - val_accuracy: 0.0881\n",
            "Epoch 3/30\n",
            "141/141 [==============================] - 12s 82ms/step - loss: 4.0440 - accuracy: 0.1041 - val_loss: 3.7483 - val_accuracy: 0.1201\n",
            "Epoch 4/30\n",
            "141/141 [==============================] - 11s 79ms/step - loss: 3.8563 - accuracy: 0.1246 - val_loss: 3.6519 - val_accuracy: 0.1210\n",
            "Epoch 5/30\n",
            "141/141 [==============================] - 12s 82ms/step - loss: 3.7122 - accuracy: 0.1408 - val_loss: 3.4946 - val_accuracy: 0.1699\n",
            "Epoch 6/30\n",
            "141/141 [==============================] - 11s 78ms/step - loss: 3.6107 - accuracy: 0.1577 - val_loss: 3.4439 - val_accuracy: 0.1708\n",
            "Epoch 7/30\n",
            "141/141 [==============================] - 11s 78ms/step - loss: 3.5243 - accuracy: 0.1751 - val_loss: 3.4241 - val_accuracy: 0.1806\n",
            "Epoch 8/30\n",
            "141/141 [==============================] - 11s 78ms/step - loss: 3.4573 - accuracy: 0.1813 - val_loss: 3.3241 - val_accuracy: 0.2028\n",
            "Epoch 9/30\n",
            "141/141 [==============================] - 12s 83ms/step - loss: 3.4003 - accuracy: 0.1933 - val_loss: 3.2894 - val_accuracy: 0.1966\n",
            "Epoch 10/30\n",
            "141/141 [==============================] - 12s 83ms/step - loss: 3.3589 - accuracy: 0.2024 - val_loss: 3.2969 - val_accuracy: 0.1984\n",
            "Epoch 11/30\n",
            "141/141 [==============================] - 12s 82ms/step - loss: 3.2910 - accuracy: 0.2024 - val_loss: 3.2793 - val_accuracy: 0.2180\n",
            "Epoch 12/30\n",
            "141/141 [==============================] - 12s 82ms/step - loss: 3.2735 - accuracy: 0.2098 - val_loss: 3.2532 - val_accuracy: 0.2278\n",
            "Epoch 13/30\n",
            "141/141 [==============================] - 12s 82ms/step - loss: 3.2286 - accuracy: 0.2202 - val_loss: 3.1974 - val_accuracy: 0.2215\n",
            "Epoch 14/30\n",
            "141/141 [==============================] - 12s 82ms/step - loss: 3.1919 - accuracy: 0.2280 - val_loss: 3.2459 - val_accuracy: 0.2126\n",
            "Epoch 15/30\n",
            "141/141 [==============================] - 12s 83ms/step - loss: 3.1772 - accuracy: 0.2227 - val_loss: 3.2018 - val_accuracy: 0.2375\n",
            "Epoch 16/30\n",
            "141/141 [==============================] - 12s 83ms/step - loss: 3.1257 - accuracy: 0.2363 - val_loss: 3.2314 - val_accuracy: 0.2100\n",
            "Epoch 17/30\n",
            "141/141 [==============================] - 12s 82ms/step - loss: 3.1181 - accuracy: 0.2311 - val_loss: 3.1727 - val_accuracy: 0.2527\n",
            "Epoch 18/30\n",
            "141/141 [==============================] - 11s 78ms/step - loss: 3.0704 - accuracy: 0.2438 - val_loss: 3.2012 - val_accuracy: 0.2420\n",
            "Epoch 19/30\n",
            "141/141 [==============================] - 11s 79ms/step - loss: 3.0505 - accuracy: 0.2478 - val_loss: 3.2055 - val_accuracy: 0.2349\n",
            "Epoch 20/30\n",
            "141/141 [==============================] - 11s 78ms/step - loss: 3.0217 - accuracy: 0.2614 - val_loss: 3.1640 - val_accuracy: 0.2420\n",
            "Epoch 21/30\n",
            "141/141 [==============================] - 11s 79ms/step - loss: 3.0181 - accuracy: 0.2634 - val_loss: 3.1894 - val_accuracy: 0.2447\n",
            "Epoch 22/30\n",
            "141/141 [==============================] - 12s 82ms/step - loss: 2.9900 - accuracy: 0.2650 - val_loss: 3.2060 - val_accuracy: 0.2375\n",
            "Epoch 23/30\n",
            "141/141 [==============================] - 11s 78ms/step - loss: 2.9779 - accuracy: 0.2710 - val_loss: 3.2089 - val_accuracy: 0.2447\n",
            "Epoch 24/30\n",
            "141/141 [==============================] - 12s 83ms/step - loss: 2.9484 - accuracy: 0.2687 - val_loss: 3.2017 - val_accuracy: 0.2438\n",
            "Epoch 25/30\n",
            "141/141 [==============================] - 11s 78ms/step - loss: 2.9180 - accuracy: 0.2845 - val_loss: 3.2332 - val_accuracy: 0.2393\n",
            "Epoch 26/30\n",
            "141/141 [==============================] - 11s 78ms/step - loss: 2.9071 - accuracy: 0.2812 - val_loss: 3.2054 - val_accuracy: 0.2375\n",
            "Epoch 27/30\n",
            "141/141 [==============================] - 11s 78ms/step - loss: 2.9027 - accuracy: 0.2848 - val_loss: 3.2072 - val_accuracy: 0.2402\n",
            "Epoch 28/30\n",
            "141/141 [==============================] - 11s 78ms/step - loss: 2.8746 - accuracy: 0.2861 - val_loss: 3.1699 - val_accuracy: 0.2500\n",
            "Epoch 29/30\n",
            "141/141 [==============================] - 12s 83ms/step - loss: 2.8544 - accuracy: 0.2930 - val_loss: 3.2039 - val_accuracy: 0.2358\n",
            "Epoch 30/30\n",
            "141/141 [==============================] - 12s 82ms/step - loss: 2.8460 - accuracy: 0.2937 - val_loss: 3.1688 - val_accuracy: 0.2464\n"
          ],
          "name": "stdout"
        }
      ]
    },
    {
      "cell_type": "code",
      "metadata": {
        "id": "ias_8a0lRcfX"
      },
      "source": [
        "y_pred=model.predict(x_test)\n",
        "pred=np.argmax(y_pred,axis=1)\n",
        "ground = np.argmax(y_test,axis=1)"
      ],
      "execution_count": 63,
      "outputs": []
    },
    {
      "cell_type": "code",
      "metadata": {
        "colab": {
          "base_uri": "https://localhost:8080/"
        },
        "id": "tEwJSqztTP5D",
        "outputId": "5a5bf96f-702d-46f1-e3b0-182f73e589bf"
      },
      "source": [
        "y_pred[0]"
      ],
      "execution_count": 68,
      "outputs": [
        {
          "output_type": "execute_result",
          "data": {
            "text/plain": [
              "array([8.3348749e-04, 2.5627782e-04, 2.7699292e-01, 7.9657020e-06,\n",
              "       1.5411455e-06, 3.4525443e-04, 1.7462826e-05, 1.2699461e-07,\n",
              "       1.8097286e-01, 6.4372834e-06, 5.3600620e-06, 1.6748604e-07,\n",
              "       1.0113858e-04, 9.4554476e-02, 2.9573223e-04, 3.2943321e-05,\n",
              "       8.3432649e-04, 9.9097183e-03, 1.6797439e-05, 3.7283843e-07,\n",
              "       4.5938863e-04, 2.1266236e-05, 4.8083495e-04, 1.1702316e-05,\n",
              "       1.0720644e-06, 5.1977959e-06, 1.8586627e-03, 2.2353674e-06,\n",
              "       1.8805898e-04, 1.8888652e-04, 1.9384534e-04, 3.2977019e-03,\n",
              "       2.0736648e-02, 2.2459202e-03, 1.8755589e-03, 2.6923501e-05,\n",
              "       5.9900770e-04, 1.5935658e-06, 8.4394829e-05, 1.7399475e-03,\n",
              "       2.8934248e-03, 3.6902528e-04, 1.9785443e-01, 3.0897285e-03,\n",
              "       8.1566139e-07, 3.2731887e-06, 3.8729844e-04, 1.4477543e-04,\n",
              "       1.0305834e-03, 1.6547132e-05, 1.4164296e-04, 2.8596458e-04,\n",
              "       7.6949735e-05, 7.2434828e-02, 9.4928555e-03, 1.0825599e-03,\n",
              "       2.5522418e-04, 1.1849545e-03, 9.1056718e-05, 2.4599314e-04,\n",
              "       3.7691367e-05, 2.3286488e-05, 7.4652553e-04, 7.8061977e-03,\n",
              "       1.3819331e-07, 8.0688245e-05, 1.0035272e-02, 5.2113369e-06,\n",
              "       1.1739002e-02, 1.1077332e-05, 3.5901034e-05, 1.3607406e-03,\n",
              "       7.9188248e-06, 1.5526472e-05, 1.3357380e-02, 1.2257656e-02,\n",
              "       3.0199555e-04, 1.2463663e-04, 2.6968679e-05, 1.8477369e-04,\n",
              "       4.4224961e-03, 7.0336909e-04, 3.4906692e-03, 8.0532636e-03,\n",
              "       2.5028013e-02, 2.2869553e-04, 1.2089429e-04, 3.6141565e-09,\n",
              "       1.0602265e-04, 4.9463988e-06, 1.4366531e-03, 2.6565143e-08,\n",
              "       1.7702396e-04, 3.7571575e-05, 6.2492395e-06, 1.2239777e-04,\n",
              "       3.6200745e-06, 5.7741228e-05, 2.8281551e-04, 1.0312986e-05,\n",
              "       2.1640123e-03, 2.6573380e-04, 2.3008432e-05, 4.0575988e-03,\n",
              "       1.2453060e-05, 4.6781174e-04, 2.7186357e-04], dtype=float32)"
            ]
          },
          "metadata": {
            "tags": []
          },
          "execution_count": 68
        }
      ]
    },
    {
      "cell_type": "code",
      "metadata": {
        "colab": {
          "base_uri": "https://localhost:8080/",
          "height": 298
        },
        "id": "kMudjBuCRgTQ",
        "outputId": "285f4595-c48a-47de-f994-41cc836aeee0"
      },
      "source": [
        "get_acc = his.history['accuracy']\n",
        "value_acc = his.history['val_accuracy']\n",
        "get_loss = his.history['loss']\n",
        "validation_loss = his.history['val_loss']\n",
        "\n",
        "epochs = range(len(get_acc))\n",
        "plt.plot(epochs, get_acc, 'r', label='Accuracy of Training data')\n",
        "plt.plot(epochs, value_acc, 'b', label='Accuracy of Validation data')\n",
        "plt.title('Training vs validation accuracy')\n",
        "plt.legend(loc=0)\n",
        "plt.figure()\n",
        "plt.show()"
      ],
      "execution_count": 64,
      "outputs": [
        {
          "output_type": "display_data",
          "data": {
            "image/png": "[encoded data removed]",
            "text/plain": [
              "<Figure size 432x288 with 1 Axes>"
            ]
          },
          "metadata": {
            "tags": [],
            "needs_background": "light"
          }
        },
        {
          "output_type": "display_data",
          "data": {
            "text/plain": [
              "<Figure size 432x288 with 0 Axes>"
            ]
          },
          "metadata": {
            "tags": []
          }
        }
      ]
    },
    {
      "cell_type": "code",
      "metadata": {
        "colab": {
          "base_uri": "https://localhost:8080/",
          "height": 298
        },
        "id": "Fp1aQfhhRjLn",
        "outputId": "759698c5-57f5-419d-8736-7259dc2a87ef"
      },
      "source": [
        "epochs = range(len(get_loss))\n",
        "plt.plot(epochs, get_loss, 'r', label='Loss of Training data')\n",
        "plt.plot(epochs, validation_loss, 'b', label='Loss of Validation data')\n",
        "plt.title('Training vs validation loss')\n",
        "plt.legend(loc=0)\n",
        "plt.figure()\n",
        "plt.show()"
      ],
      "execution_count": 65,
      "outputs": [
        {
          "output_type": "display_data",
          "data": {
            "image/png": "[encoded data removed]",
            "text/plain": [
              "<Figure size 432x288 with 1 Axes>"
            ]
          },
          "metadata": {
            "tags": [],
            "needs_background": "light"
          }
        },
        {
          "output_type": "display_data",
          "data": {
            "text/plain": [
              "<Figure size 432x288 with 0 Axes>"
            ]
          },
          "metadata": {
            "tags": []
          }
        }
      ]
    },
    {
      "cell_type": "code",
      "metadata": {
        "id": "0qgIdnSpRlZQ"
      },
      "source": [
        "image=load_img(\"../input/yoga-pose-image-classification-dataset/dataset/adho mukha svanasana/95. downward-facing-dog-pose.png\",target_size=(40,40))\n",
        "\n",
        "image=img_to_array(image) \n",
        "image=image/255.0\n",
        "prediction_image=np.array(image)\n",
        "prediction_image= np.expand_dims(image, axis=0)"
      ],
      "execution_count": null,
      "outputs": []
    },
    {
      "cell_type": "code",
      "metadata": {
        "id": "HjhWCHTERuvx"
      },
      "source": [
        "prediction=model.predict(prediction_image)\n",
        "value=np.argmax(prediction)\n",
        "move_name=mapper(value)\n",
        "print(\"Prediction is {}.\".format(move_name))"
      ],
      "execution_count": null,
      "outputs": []
    },
    {
      "cell_type": "code",
      "metadata": {
        "id": "YinVv_cAR3Ij"
      },
      "source": [
        ""
      ],
      "execution_count": null,
      "outputs": []
    }
  ]
}