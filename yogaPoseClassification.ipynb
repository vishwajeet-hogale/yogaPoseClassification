{
  "nbformat": 4,
  "nbformat_minor": 0,
  "metadata": {
    "colab": {
      "name": "yogaPoseClassification.ipynb",
      "provenance": [],
      "collapsed_sections": [],
      "toc_visible": true
    },
    "kernelspec": {
      "name": "python3",
      "display_name": "Python 3"
    },
    "language_info": {
      "name": "python"
    },
    "accelerator": "GPU"
  },
  "cells": [
    {
      "cell_type": "markdown",
      "metadata": {
        "id": "ghK1Sx9cBTH5"
      },
      "source": [
        "# Yoga Pose Classification \n",
        "\n"
      ]
    },
    {
      "cell_type": "code",
      "metadata": {
        "id": "oZABc3WJBNiw"
      },
      "source": [
        "import numpy as np\n",
        "import os\n",
        "import pandas as pd\n",
        "import matplotlib.pyplot as plt\n",
        "import tensorflow as tf\n",
        "from tensorflow.keras.utils import to_categorical\n",
        "from tensorflow.keras.preprocessing.image import load_img, img_to_array\n",
        "from tensorflow.python.keras.preprocessing.image import ImageDataGenerator\n",
        "from sklearn.model_selection import train_test_split"
      ],
      "execution_count": 29,
      "outputs": []
    },
    {
      "cell_type": "code",
      "metadata": {
        "colab": {
          "base_uri": "https://localhost:8080/"
        },
        "id": "WbBFP1gGB-s8",
        "outputId": "62dce2d5-917d-49bf-f3d8-482da79c0c22"
      },
      "source": [
        "from google.colab import drive\n",
        "\n",
        "\n",
        "drive.mount('/content/gdrive')"
      ],
      "execution_count": 16,
      "outputs": [
        {
          "output_type": "stream",
          "text": [
            "Drive already mounted at /content/gdrive; to attempt to forcibly remount, call drive.mount(\"/content/gdrive\", force_remount=True).\n"
          ],
          "name": "stdout"
        }
      ]
    },
    {
      "cell_type": "code",
      "metadata": {
        "colab": {
          "base_uri": "https://localhost:8080/"
        },
        "id": "-h9UBA16CYdR",
        "outputId": "744855d1-cce2-41aa-9f31-37dae1c591da"
      },
      "source": [
        "%cd /content/gdrive/MyDrive/Projects_Colab/Yoga\n",
        "train_dir = \"/content/gdrive/MyDrive/Projects_Colab/Yoga\"\n",
        "!unzip dataset.zip\n"
      ],
      "execution_count": 17,
      "outputs": [
        {
          "output_type": "stream",
          "text": [
            "/content/gdrive/MyDrive/Projects_Colab\n",
            "unzip:  cannot find or open dataset.zip, dataset.zip.zip or dataset.zip.ZIP.\n"
          ],
          "name": "stdout"
        }
      ]
    },
    {
      "cell_type": "code",
      "metadata": {
        "id": "RiDgppmPOhTQ"
      },
      "source": [
        "all_classes =[]\n",
        "for file in os.listdir(train_dir):\n",
        "    all_classes.append(file)"
      ],
      "execution_count": 34,
      "outputs": []
    },
    {
      "cell_type": "code",
      "metadata": {
        "id": "QDI8IjNtDbvG",
        "colab": {
          "base_uri": "https://localhost:8080/"
        },
        "outputId": "52060dac-db78-4703-c388-fc015ab71c0b"
      },
      "source": [
        "len(all_classes)"
      ],
      "execution_count": 35,
      "outputs": [
        {
          "output_type": "execute_result",
          "data": {
            "text/plain": [
              "107"
            ]
          },
          "metadata": {
            "tags": []
          },
          "execution_count": 35
        }
      ]
    },
    {
      "cell_type": "code",
      "metadata": {
        "id": "afpdZO2vCxKP",
        "colab": {
          "base_uri": "https://localhost:8080/"
        },
        "outputId": "72217e76-c746-4281-bc1b-020785ac5aa0"
      },
      "source": [
        "len(all_classes)"
      ],
      "execution_count": 36,
      "outputs": [
        {
          "output_type": "execute_result",
          "data": {
            "text/plain": [
              "107"
            ]
          },
          "metadata": {
            "tags": []
          },
          "execution_count": 36
        }
      ]
    },
    {
      "cell_type": "code",
      "metadata": {
        "id": "hkGCafibMFfY"
      },
      "source": [
        "Name = all_classes\n",
        "N=[]\n",
        "for i in range(len(Name)):\n",
        "    N+=[i]\n",
        "    \n",
        "normal_mapping=dict(zip(Name,N)) \n",
        "reverse_mapping=dict(zip(N,Name)) \n",
        "\n",
        "def mapper(value):\n",
        "    return reverse_mapping[value]"
      ],
      "execution_count": 37,
      "outputs": []
    },
    {
      "cell_type": "code",
      "metadata": {
        "colab": {
          "base_uri": "https://localhost:8080/"
        },
        "id": "6t7xY_B3MXzX",
        "outputId": "dd781915-fff8-42d3-b86e-82b1ccbcd97f"
      },
      "source": [
        "dataset=[]\n",
        "testset=[]\n",
        "count=0\n",
        "train_dir = \"/content/gdrive/MyDrive/Projects_Colab/Yoga/\"\n",
        "for file in os.listdir(train_dir):\n",
        "    t=0\n",
        "    path=os.path.join(train_dir,file)\n",
        "    for im in os.listdir(path):\n",
        "        image=load_img(os.path.join(path,im), grayscale=False, color_mode='rgb', target_size=(40,40))\n",
        "        image=img_to_array(image)\n",
        "        image=image/255.0\n",
        "        if t<60:\n",
        "            dataset+=[[image,count]]\n",
        "        else:\n",
        "            testset+=[[image,count]]\n",
        "        t+=1\n",
        "    count=count+1"
      ],
      "execution_count": 26,
      "outputs": [
        {
          "output_type": "stream",
          "text": [
            "/usr/local/lib/python3.7/dist-packages/PIL/Image.py:960: UserWarning: Palette images with Transparency expressed in bytes should be converted to RGBA images\n",
            "  \"Palette images with Transparency expressed in bytes should be \"\n"
          ],
          "name": "stderr"
        }
      ]
    },
    {
      "cell_type": "code",
      "metadata": {
        "id": "UeXGt1khMh8J"
      },
      "source": [
        "data,labels0=zip(*dataset)\n",
        "test,testlabels0=zip(*testset)\n",
        "labels1=to_categorical(labels0)\n",
        "labels=np.array(labels1)\n",
        "data=np.array(data)\n",
        "test=np.array(test)"
      ],
      "execution_count": 27,
      "outputs": []
    },
    {
      "cell_type": "code",
      "metadata": {
        "id": "ZG33mtcVNvx_"
      },
      "source": [
        "x_train,x_test,y_train,y_test=train_test_split(data,labels,test_size=0.2,random_state=44)"
      ],
      "execution_count": 40,
      "outputs": []
    },
    {
      "cell_type": "code",
      "metadata": {
        "id": "2tOZrb34OTJn"
      },
      "source": [
        "datagen = ImageDataGenerator(horizontal_flip=True,vertical_flip=True,rotation_range=20,zoom_range=0.2,\n",
        "                        width_shift_range=0.2,height_shift_range=0.2,shear_range=0.1,fill_mode=\"nearest\")"
      ],
      "execution_count": 41,
      "outputs": []
    },
    {
      "cell_type": "code",
      "metadata": {
        "colab": {
          "base_uri": "https://localhost:8080/"
        },
        "id": "6XxCLgFTP4xZ",
        "outputId": "81389ae2-f525-41a9-c9d0-716c130ca295"
      },
      "source": [
        "print(x_train.shape)\n",
        "print(y_train.shape)\n",
        "print(x_test.shape)\n",
        "print(y_test.shape)"
      ],
      "execution_count": 48,
      "outputs": [
        {
          "output_type": "stream",
          "text": [
            "(4495, 40, 40, 3)\n",
            "(4495, 107)\n",
            "(1124, 40, 40, 3)\n",
            "(1124, 107)\n"
          ],
          "name": "stdout"
        }
      ]
    },
    {
      "cell_type": "code",
      "metadata": {
        "id": "KIC7YyhROXx3"
      },
      "source": [
        "from tensorflow.keras.layers import Input, Conv2D, Dense, Flatten, Dropout, GlobalMaxPooling2D, MaxPooling2D, BatchNormalization\n",
        "from tensorflow.keras.models import Model\n",
        "\n",
        "# Build the model using the functional API\n",
        "i = Input(shape=x_train[0].shape)\n",
        "# x = Conv2D(32, (3, 3), strides=2, activation='relu')(i)\n",
        "# x = Conv2D(64, (3, 3), strides=2, activation='relu')(x)\n",
        "# x = Conv2D(128, (3, 3), strides=2, activation='relu')(x)\n",
        "\n",
        "x = Conv2D(32, (3, 3), activation='relu', padding='same')(i)\n",
        "x = BatchNormalization()(x)\n",
        "x = Conv2D(32, (3, 3), activation='relu', padding='same')(x)\n",
        "x = BatchNormalization()(x)\n",
        "x = MaxPooling2D((2, 2))(x)\n",
        "# x = Dropout(0.2)(x)\n",
        "x = Conv2D(64, (3, 3), activation='relu', padding='same')(x)\n",
        "x = BatchNormalization()(x)\n",
        "x = Conv2D(64, (3, 3), activation='relu', padding='same')(x)\n",
        "x = BatchNormalization()(x)\n",
        "x = MaxPooling2D((2, 2))(x)\n",
        "# x = Dropout(0.2)(x)\n",
        "x = Conv2D(128, (3, 3), activation='relu', padding='same')(x)\n",
        "x = BatchNormalization()(x)\n",
        "x = Conv2D(128, (3, 3), activation='relu', padding='same')(x)\n",
        "x = BatchNormalization()(x)\n",
        "x = MaxPooling2D((2, 2))(x)\n",
        "# x = Dropout(0.2)(x)\n",
        "\n",
        "# x = GlobalMaxPooling2D()(x)\n",
        "x = Flatten()(x)\n",
        "x = Dropout(0.2)(x)\n",
        "x = Dense(1024, activation='relu')(x)\n",
        "x = Dropout(0.2)(x)\n",
        "x = Dense(107, activation='softmax')(x)\n",
        "\n",
        "model = Model(i, x)"
      ],
      "execution_count": 50,
      "outputs": []
    },
    {
      "cell_type": "code",
      "metadata": {
        "id": "ChxTqRJlOz63"
      },
      "source": [
        "# Compile\n",
        "# Note: make sure you are using the GPU for this!\n",
        "model.compile(optimizer='adam',\n",
        "              loss='categorical_crossentropy',\n",
        "              metrics=['accuracy'])"
      ],
      "execution_count": 52,
      "outputs": []
    },
    {
      "cell_type": "code",
      "metadata": {
        "colab": {
          "base_uri": "https://localhost:8080/"
        },
        "id": "veBqMAnGPKQf",
        "outputId": "e5edfe74-529a-4e86-c4e4-ad4f4c98ee0f"
      },
      "source": [
        "\n",
        "\n",
        "r=model.fit(datagen.flow(x_train,y_train,batch_size=32),validation_data=(x_test,y_test),epochs=30)"
      ],
      "execution_count": null,
      "outputs": [
        {
          "output_type": "stream",
          "text": [
            "Epoch 1/30\n",
            "141/141 [==============================] - 8s 44ms/step - loss: 5.1465 - accuracy: 0.0133 - val_loss: 4.8019 - val_accuracy: 0.0044\n",
            "Epoch 2/30\n",
            "141/141 [==============================] - 6s 39ms/step - loss: 4.6809 - accuracy: 0.0158 - val_loss: 4.6880 - val_accuracy: 0.0151\n",
            "Epoch 3/30\n",
            "141/141 [==============================] - 5s 39ms/step - loss: 4.6298 - accuracy: 0.0214 - val_loss: 4.5980 - val_accuracy: 0.0205\n",
            "Epoch 4/30\n",
            "141/141 [==============================] - 5s 38ms/step - loss: 4.5659 - accuracy: 0.0227 - val_loss: 4.4231 - val_accuracy: 0.0374\n",
            "Epoch 5/30\n",
            "141/141 [==============================] - 5s 39ms/step - loss: 4.4926 - accuracy: 0.0296 - val_loss: 4.4374 - val_accuracy: 0.0409\n",
            "Epoch 6/30\n",
            "141/141 [==============================] - 5s 38ms/step - loss: 4.4048 - accuracy: 0.0396 - val_loss: 4.3744 - val_accuracy: 0.0356\n",
            "Epoch 7/30\n",
            "141/141 [==============================] - 5s 38ms/step - loss: 4.2951 - accuracy: 0.0449 - val_loss: 4.2369 - val_accuracy: 0.0436\n",
            "Epoch 8/30\n",
            "141/141 [==============================] - 5s 38ms/step - loss: 4.2438 - accuracy: 0.0516 - val_loss: 4.0196 - val_accuracy: 0.0667\n",
            "Epoch 9/30\n",
            "141/141 [==============================] - 6s 39ms/step - loss: 4.1304 - accuracy: 0.0578 - val_loss: 3.7818 - val_accuracy: 0.0943\n",
            "Epoch 10/30\n",
            "141/141 [==============================] - 6s 39ms/step - loss: 4.0996 - accuracy: 0.0659 - val_loss: 3.6827 - val_accuracy: 0.1077\n",
            "Epoch 11/30\n",
            "141/141 [==============================] - 6s 40ms/step - loss: 4.0179 - accuracy: 0.0756 - val_loss: 3.8586 - val_accuracy: 0.0890\n",
            "Epoch 12/30\n",
            "141/141 [==============================] - 6s 39ms/step - loss: 3.9840 - accuracy: 0.0836 - val_loss: 3.9532 - val_accuracy: 0.0836\n",
            "Epoch 13/30\n",
            "103/141 [====================>.........] - ETA: 1s - loss: 3.9385 - accuracy: 0.0848"
          ],
          "name": "stdout"
        }
      ]
    },
    {
      "cell_type": "code",
      "metadata": {
        "id": "2jMTULmyPU1I"
      },
      "source": [
        "import matplotlib.pyplot as plt\n",
        "plt.plot(r.history['loss'], label='loss')\n",
        "plt.plot(r.history['val_loss'], label='val_loss')\n",
        "plt.legend()"
      ],
      "execution_count": null,
      "outputs": []
    },
    {
      "cell_type": "code",
      "metadata": {
        "id": "jT-lS-gqPXtI"
      },
      "source": [
        "# Plot accuracy per iteration\n",
        "plt.plot(r.history['accuracy'], label='acc')\n",
        "plt.plot(r.history['val_accuracy'], label='val_acc')\n",
        "plt.legend()"
      ],
      "execution_count": null,
      "outputs": []
    },
    {
      "cell_type": "code",
      "metadata": {
        "id": "KKHx0-p2Paw3"
      },
      "source": [
        ""
      ],
      "execution_count": null,
      "outputs": []
    }
  ]
}